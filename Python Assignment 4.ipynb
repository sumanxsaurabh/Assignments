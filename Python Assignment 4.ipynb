{
 "cells": [
  {
   "cell_type": "markdown",
   "metadata": {},
   "source": [
    "### 1.1 Write a Python Program(with class concepts) to find the area of the triangle using the below formula.\n",
    "### area = (s*(s-a)*(s-b)*(s-c)) ** 0.5\n",
    "#### Function to take the length of the sides of triangle from user should be defined in the parent class and function to calculate the area should be defined in subclass."
   ]
  },
  {
   "cell_type": "code",
   "execution_count": 40,
   "metadata": {},
   "outputs": [],
   "source": [
    "#Parent class\n",
    "class Triangle:\n",
    "    def __init__(self):\n",
    "        number_of_sides = ['a','b','c']\n",
    "        self.number_of_sides = number_of_sides\n",
    "        \n",
    "    def sides_of_triangle(self):\n",
    "        self.sides_of_triangle = [input(\"Enter side \"+i+\" :\") for i in self.number_of_sides]\n",
    "        \n",
    "#Sub class       \n",
    "class Triangle_Area(Triangle):\n",
    "    def __init__(self):\n",
    "        Triangle.__init__(self)\n",
    "        \n",
    "    def area_of_triangle(self):\n",
    "        sides_of_triangle = iter(self.sides_of_triangle)\n",
    "        a = float(next(sides_of_triangle))\n",
    "        b = float(next(sides_of_triangle))\n",
    "        c = float(next(sides_of_triangle))      \n",
    "                 \n",
    "        s = (a+b+c)*0.5                \n",
    "        area = (s*(s-a)*(s-b)*(s-c))**0.5    \n",
    "          \n",
    "        print(\"Area of the triangle is %0.2f\" %area)"
   ]
  },
  {
   "cell_type": "code",
   "execution_count": 41,
   "metadata": {},
   "outputs": [
    {
     "name": "stdout",
     "output_type": "stream",
     "text": [
      "Enter side a :3\n",
      "Enter side b :4\n",
      "Enter side c :5\n",
      "Area of the triangle is 6.00\n"
     ]
    }
   ],
   "source": [
    "area = Triangle_Area()\n",
    "area.sides_of_triangle()\n",
    "area.area_of_triangle()"
   ]
  },
  {
   "cell_type": "markdown",
   "metadata": {},
   "source": [
    "### 1.2 Write a function filter_long_words() that takes a list of words and an integer n and returns the list of words that are longer than n."
   ]
  },
  {
   "cell_type": "code",
   "execution_count": 42,
   "metadata": {},
   "outputs": [
    {
     "name": "stdout",
     "output_type": "stream",
     "text": [
      "Please enter words (multiple in comma-separated format): suman,saurabh,ineuron,AI,ML\n",
      "Please enter your number: 2\n",
      "\n",
      " The list of longest words which are longer than 2 is :\n"
     ]
    },
    {
     "data": {
      "text/plain": [
       "['suman', 'saurabh', 'ineuron']"
      ]
     },
     "execution_count": 42,
     "metadata": {},
     "output_type": "execute_result"
    }
   ],
   "source": [
    "def filter_long_words(wordlist, n):\n",
    "    wordlist = [x.strip() for x in wordlist if len(x.strip()) > n]\n",
    "    \n",
    "    if(len(wordlist) > 0):\n",
    "        print(\"\\n The list of longest words which are longer than \"+str(n) + \" is :\")\n",
    "        return wordlist\n",
    "    else:\n",
    "        return \"No Words longer than specified number \" + str(n)\n",
    "    \n",
    "string = input(\"Please enter words (multiple in comma-separated format): \")\n",
    "number = int(input(\"Please enter your number: \"))\n",
    "\n",
    "words = list(string.split(\",\"))\n",
    "\n",
    "filter_long_words(words, number)"
   ]
  },
  {
   "cell_type": "markdown",
   "metadata": {},
   "source": [
    "### 2.1 Write a Python program using function concept that maps list of words into a list of integers representing the lengths of the corresponding words.\n",
    "#### Hint: If a list [ ab,cde,erty] is passed on to the python function output should come as [2,3,4]. Here 2,3 and 4 are the lengths of the words in the list."
   ]
  },
  {
   "cell_type": "code",
   "execution_count": 43,
   "metadata": {},
   "outputs": [
    {
     "name": "stdout",
     "output_type": "stream",
     "text": [
      "Please enter words :ab,cdef,cde,erty\n",
      "Length of words are : [2, 4, 3, 4]\n"
     ]
    }
   ],
   "source": [
    "def map_words_to_length(wordList):\n",
    "    return list(map(len, wordList))\n",
    "\n",
    "string = input(\"Please enter words :\")\n",
    "words = list(string.split(\",\"))\n",
    "\n",
    "wordList = [x.strip() for x in words]\n",
    "\n",
    "lengthOfWords = map_words_to_length(wordList)\n",
    "\n",
    "print(\"Length of words are :\", lengthOfWords)"
   ]
  },
  {
   "cell_type": "markdown",
   "metadata": {},
   "source": [
    "### 2.2 Write a Python function which takes a character (i.e. a string of length 1) and returns True if it is a vowel, False otherwise."
   ]
  },
  {
   "cell_type": "code",
   "execution_count": 44,
   "metadata": {},
   "outputs": [
    {
     "name": "stdout",
     "output_type": "stream",
     "text": [
      "Enter a character for vowel check: \n",
      "Input Value: E\n",
      "Output Value: True\n"
     ]
    }
   ],
   "source": [
    "def check_vowel(char):\n",
    "    result = False\n",
    "    if(len(char) == 1):\n",
    "        vowel_list = ['a','e','i','o','u']\n",
    "        if (char.lower() in vowel_list):\n",
    "            result = True\n",
    "        else:\n",
    "            result = False\n",
    "    return result\n",
    "\n",
    "print(\"Enter a character for vowel check: \")\n",
    "input_value = input(\"Input Value: \")\n",
    "\n",
    "output_value = check_vowel(input_value) \n",
    "\n",
    "print(\"Output Value:\", output_value)"
   ]
  },
  {
   "cell_type": "code",
   "execution_count": null,
   "metadata": {},
   "outputs": [],
   "source": []
  }
 ],
 "metadata": {
  "kernelspec": {
   "display_name": "Python 3",
   "language": "python",
   "name": "python3"
  },
  "language_info": {
   "codemirror_mode": {
    "name": "ipython",
    "version": 3
   },
   "file_extension": ".py",
   "mimetype": "text/x-python",
   "name": "python",
   "nbconvert_exporter": "python",
   "pygments_lexer": "ipython3",
   "version": "3.8.3"
  }
 },
 "nbformat": 4,
 "nbformat_minor": 2
}
